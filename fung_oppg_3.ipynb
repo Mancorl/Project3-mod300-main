{
 "cells": [
  {
   "cell_type": "code",
   "id": "initial_id",
   "metadata": {
    "collapsed": true,
    "jupyter": {
     "is_executing": true
    }
   },
   "source": [
    "import numpy as np\n",
    "import math\n",
    "import matplotlib.pyplot as plt"
   ],
   "outputs": [],
   "execution_count": null
  },
  {
   "metadata": {
    "ExecuteTime": {
     "end_time": "2025-10-27T12:28:01.302356Z",
     "start_time": "2025-10-27T12:28:01.284924Z"
    }
   },
   "cell_type": "code",
   "source": [
    "def rand_tall_med_r_2(amont, low=0.0, high=1.0):\n",
    "    \"\"\"\n",
    "    Generate two arrays of random points within a specified range.\n",
    "\n",
    "    Parameters:\n",
    "        amont (int): Number of random points to generate.\n",
    "        low (float): Lower limit of the random range.\n",
    "        high (float): Upper limit of the random range.\n",
    "\n",
    "    Returns:\n",
    "        tuple: 3 numpy arrays of shape (amont) and 1 numpy arrays of shape (100 times smaler then boxs).\n",
    "    \"\"\"\n",
    "    delta_r = high - low  # delta for radius\n",
    "    r = np.round(np.random.uniform(0, delta_r / 100, size=amont))\n",
    "    x ,y, z = [],[],[]\n",
    "    print(r)\n",
    "    for i in r:\n",
    "        print(i)\n",
    "        x.append(np.round(np.random.uniform(low+i, high-i)))\n",
    "        y.append(np.round(np.random.uniform(low+i, high-i)))\n",
    "        z.append(np.round(np.random.uniform(low+i, high-i)))\n",
    "    return np.array([r,x,y,z]).T\n",
    "\n",
    "box = 1000\n",
    "x1 = rand_tall_med_r_2(amont=10, low=0.0, high=box)\n",
    "print(x1)"
   ],
   "id": "72d6ff0b914a1832",
   "outputs": [
    {
     "name": "stdout",
     "output_type": "stream",
     "text": [
      "[8. 3. 0. 6. 5. 2. 3. 2. 3. 8.]\n",
      "8.0\n",
      "3.0\n",
      "0.0\n",
      "6.0\n",
      "5.0\n",
      "2.0\n",
      "3.0\n",
      "2.0\n",
      "3.0\n",
      "8.0\n",
      "[[  8. 781. 592. 682.]\n",
      " [  3. 717. 882. 964.]\n",
      " [  0. 267. 476. 100.]\n",
      " [  6. 422. 390.  72.]\n",
      " [  5. 240. 797. 301.]\n",
      " [  2. 699. 841. 312.]\n",
      " [  3. 383. 945. 567.]\n",
      " [  2. 519. 103. 536.]\n",
      " [  3. 944. 106. 477.]\n",
      " [  8. 935. 224.  80.]]\n"
     ]
    }
   ],
   "execution_count": 33
  },
  {
   "metadata": {},
   "cell_type": "code",
   "source": "",
   "id": "64f654745b11f61c",
   "outputs": [],
   "execution_count": null
  },
  {
   "metadata": {
    "ExecuteTime": {
     "end_time": "2025-10-27T11:57:22.400646Z",
     "start_time": "2025-10-27T11:57:22.388263Z"
    }
   },
   "cell_type": "code",
   "source": [
    "def make_points(numb_1, low=0.0, high=1.0):\n",
    "    \"\"\"\n",
    "    Generate two arrays of random points within a specified range.\n",
    "\n",
    "    Parameters:\n",
    "        numb_1 (int): Number of random points to generate.\n",
    "        low (float): Lower limit of the random range.\n",
    "        high (float): Upper limit of the random range.\n",
    "\n",
    "    Returns:\n",
    "        tuple: 3 numpy arrays of shape (numb_1)\n",
    "    \"\"\"\n",
    "    x = np.random.uniform(low, high, numb_1)\n",
    "    y = np.random.uniform(low, high, numb_1)\n",
    "    z = np.random.uniform(low, high, numb_1)\n",
    "\n",
    "    return np.round(np.array([x,y,z]).T)\n",
    "\n"
   ],
   "id": "4f9bc24dfd0c2a8",
   "outputs": [
    {
     "name": "stdout",
     "output_type": "stream",
     "text": [
      "[[73. 20.  2.]\n",
      " [94. 23. 11.]\n",
      " [33. 57. 33.]\n",
      " [13.  1.  7.]\n",
      " [81. 86. 11.]\n",
      " [13. 28. 93.]\n",
      " [54. 94. 96.]\n",
      " [33. 87. 86.]\n",
      " [73. 41. 87.]\n",
      " [ 7.  4. 25.]]\n"
     ]
    }
   ],
   "execution_count": 26
  },
  {
   "metadata": {
    "ExecuteTime": {
     "end_time": "2025-10-27T11:59:38.568355Z",
     "start_time": "2025-10-27T11:59:38.558158Z"
    }
   },
   "cell_type": "code",
   "source": [
    "def in_circle(point, sphere):\n",
    "    \"\"\"\n",
    "      testing it a point is in the sphere\n",
    "\n",
    "      Parameters:\n",
    "          point (int): list[x,y,z] cordenets\n",
    "          sphere (int): list of sphere [r,x,y,z]\n",
    "\n",
    "      Returns:\n",
    "          true if in the sphere\n",
    "      \"\"\"\n",
    "\n",
    "    return ((sphere[1]-point[0]) ** 2) + ((sphere[2]-point[1]) ** 2) + ((sphere[3]-point[2]) ** 2) < sphere[0]**2\n",
    "\n",
    "sphere = [5,10,10,10]\n",
    "point = [6,10,10]\n",
    "in_circle(point,sphere)"
   ],
   "id": "6024982fdecfb73e",
   "outputs": [
    {
     "data": {
      "text/plain": [
       "True"
      ]
     },
     "execution_count": 32,
     "metadata": {},
     "output_type": "execute_result"
    }
   ],
   "execution_count": 32
  },
  {
   "metadata": {
    "ExecuteTime": {
     "end_time": "2025-10-27T13:38:39.142774Z",
     "start_time": "2025-10-27T13:38:39.135806Z"
    }
   },
   "cell_type": "code",
   "source": [
    "def rand_tall_med_r(amont, low=0.0, high=1.0, r_size = 100):\n",
    "    \"\"\"\n",
    "    Generate two arrays of random points within a specified range.\n",
    "\n",
    "    Parameters:\n",
    "        amont (int): Number of random points to generate.\n",
    "        low (float): Lower limit of the random range.\n",
    "        high (float): Upper limit of the random range.\n",
    "\n",
    "    Returns:\n",
    "        tuple: 3 numpy arrays of shape (amont) and 1 numpy arrays of shape (100 times smaler then boxs).\n",
    "    \"\"\"\n",
    "    delta_r = high - low  # delta for radius\n",
    "    r = np.round(np.random.uniform(0, delta_r / r_size, size=amont))\n",
    "\n",
    "    x ,y, z = [],[],[]\n",
    "    for i in r:\n",
    "        x.append(np.round(np.random.uniform(low+i, high-i)))\n",
    "        y.append(np.round(np.random.uniform(low+i, high-i)))\n",
    "        z.append(np.round(np.random.uniform(low+i, high-i)))\n",
    "    return np.array([r,x,y,z]).T\n",
    "\n",
    "point_test = rand_tall_med_r(2 , 0, 10)\n",
    "print(point_test)\n"
   ],
   "id": "1d67472c8f71ffcf",
   "outputs": [
    {
     "name": "stdout",
     "output_type": "stream",
     "text": [
      "[[0. 4. 8. 1.]\n",
      " [0. 8. 7. 6.]]\n"
     ]
    }
   ],
   "execution_count": 104
  },
  {
   "metadata": {
    "ExecuteTime": {
     "end_time": "2025-10-27T14:51:52.668884Z",
     "start_time": "2025-10-27T14:51:52.663928Z"
    }
   },
   "cell_type": "code",
   "source": [
    "def plot_sphere(sphere):\n",
    "    \"\"\"\n",
    "    Generate two arrays of random points within a specified range.\n",
    "\n",
    "    Parameters:\n",
    "        tuple: i x j marix\n",
    "        i = amont of sphere\n",
    "        j = r,x,y,z\n",
    "\n",
    "    Returns:\n",
    "        :returns x y z point for all sphere\n",
    "    \"\"\"\n",
    "    u = np.linspace(0, 2 * np.pi, 100)\n",
    "    v = np.linspace(0, np.pi, 100)\n",
    "    u, v = np.meshgrid(u, v)\n",
    "\n",
    "    x_sphere,y_sphere,z_sphere = [],[],[]\n",
    "    for i in range(len(sphere)):\n",
    "        x_sphere.append(sphere[i,1] + sphere[i,0] * np.sin(v) * np.cos(u))\n",
    "        y_sphere.append(sphere[i,2] + sphere[i,0] * np.sin(v) * np.sin(u))\n",
    "        z_sphere.append(sphere[i,3] + sphere[i,0] * np.cos(v))\n",
    "    return x_sphere,y_sphere,z_sphere"
   ],
   "id": "e9ac2683aadf0f20",
   "outputs": [],
   "execution_count": 174
  },
  {
   "metadata": {},
   "cell_type": "code",
   "outputs": [],
   "execution_count": null,
   "source": "",
   "id": "f7993cdd0efe152e"
  },
  {
   "metadata": {
    "ExecuteTime": {
     "end_time": "2025-10-28T08:07:31.029862Z",
     "start_time": "2025-10-28T08:07:29.583786Z"
    }
   },
   "cell_type": "code",
   "source": [
    "\n",
    "amount_sphere = 10\n",
    "amount_points = 100000\n",
    "\n",
    "sphere_test = rand_tall_med_r(amount_sphere , 0, 1000,5)\n",
    "x_sphere, y_sphere ,z_sphere = plot_sphere(sphere_test)\n",
    "\n",
    "\n",
    "point_test = make_points(amount_points,1,1000)\n",
    "\n",
    "\n",
    "volum = []\n",
    "x_point,y_point,z_point = [],[],[]\n",
    "point_in = 0\n",
    "for i in range(len(sphere_test)):\n",
    "    volum.append(sphere_test[i,0]*4*np.pi/3)\n",
    "    for j in range(len(point_test)):\n",
    "        if in_circle(point_test[j,:], sphere_test[i,:]):\n",
    "            point_in += 1\n",
    "            x_point.append(point_test[j,0])\n",
    "            y_point.append(point_test[j,1])\n",
    "            z_point.append(point_test[j,2])\n",
    "            point_test[j,:] = [0,0,0]\n",
    "print( point_in,'/',amount_points,'=',point_in/amount_points)\n",
    "print(np.round(volum))\n",
    "\n",
    "\n",
    "\n",
    "fig = plt.figure()\n",
    "\n",
    "ax = fig.add_subplot(projection=\"3d\")\n",
    "ax.set_xlim(0,1000)\n",
    "ax.set_ylim(0,1000)\n",
    "ax.set_zlim(0,1000)\n",
    "\n",
    "ax.plot(x_sphere,y_sphere,z_sphere,'.r')\n",
    "ax.plot(x_point,y_point,z_point,'.b')\n",
    "plt.show()\n",
    "\n",
    "\n",
    "\n",
    "\n"
   ],
   "id": "8f7008b8e62724f6",
   "outputs": [
    {
     "name": "stdout",
     "output_type": "stream",
     "text": [
      "4814 / 100000 = 0.04814\n",
      "[553. 260. 235. 331. 105. 205.  38. 402. 821.  21.]\n"
     ]
    },
    {
     "data": {
      "text/plain": [
       "<Figure size 640x480 with 1 Axes>"
      ],
      "image/png": "[encoded data removed]"
     },
     "metadata": {},
     "output_type": "display_data"
    }
   ],
   "execution_count": 211
  }
 ],
 "metadata": {
  "kernelspec": {
   "display_name": "Python 3",
   "language": "python",
   "name": "python3"
  },
  "language_info": {
   "codemirror_mode": {
    "name": "ipython",
    "version": 2
   },
   "file_extension": ".py",
   "mimetype": "text/x-python",
   "name": "python",
   "nbconvert_exporter": "python",
   "pygments_lexer": "ipython2",
   "version": "2.7.6"
  }
 },
 "nbformat": 4,
 "nbformat_minor": 5
}
