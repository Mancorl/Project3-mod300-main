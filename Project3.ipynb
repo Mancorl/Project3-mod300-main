{
 "cells": [
  {
   "cell_type": "markdown",
   "id": "d6f7dff1",
   "metadata": {},
   "source": [
    "### <div align=\"center\">**DNA and random walk for accessible volume calculation** </div>\n",
    "##### <div align=\"center\">*Christoffer Waldemar, Markus Solgård and Audun Steinkopf*</div>"
   ]
  }
 ],
 "metadata": {
  "language_info": {
   "name": "python"
  }
 },
 "nbformat": 4,
 "nbformat_minor": 5
}
